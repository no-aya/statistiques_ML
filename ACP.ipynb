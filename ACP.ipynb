{
 "cells": [
  {
   "cell_type": "markdown",
   "id": "61b54e07",
   "metadata": {},
   "source": [
    "# ACP (ꈍᴗꈍ)♡"
   ]
  },
  {
   "cell_type": "markdown",
   "id": "cb3fb4ae",
   "metadata": {},
   "source": [
    "L'ACP permet de calculer des matrices pour projeter les variables dans un nouvel espace en utilisant une nouvelle matrice qui montre le degré de similarité entre les variables."
   ]
  },
  {
   "cell_type": "markdown",
   "id": "0a5b0ad4",
   "metadata": {},
   "source": [
    "> #### Termes importants :\n",
    ">\n",
    ">| **Terme en anglais**  | **Traduction en français**         | **Définition**                                        |\n",
    ">|-----------------------|------------------------------------------------|-------------------------------------------|\n",
    ">| Principal Component Analysis | Analyse en Composantes Principales | Méthode statistique qui permet de réduire le nombre de variables|\n",
    ">| Feature | Variable                     | Variable utilisée pour prédire une variable cible |\n",
    ">| Principal Component | Composante Principale   | Nouvelle variable calculée à partir des variables initiales |\n",
    ">| Eigenvalue   | Valeur propre                  | Valeur associée à une composante principale         |\n",
    ">| Eigenvector  | Vecteur propre                 | Vecteur associé à une composante principale          |\n",
    ">| Scalar | scalaire | Nombre unique |\n",
    ">| Vector | vecteur | Liste de nombres |\n",
    ">| Data mean | Moyenne des données | Moyenne des données |\n",
    "\n",
    "\n"
   ]
  },
  {
   "cell_type": "markdown",
   "id": "357cca61",
   "metadata": {},
   "source": [
    "## 1. Principe de l'ACP"
   ]
  },
  {
   "cell_type": "markdown",
   "id": "e66afb17",
   "metadata": {},
   "source": [
    "Supposons que nous avons un dataset, conçu de 1000 variables. En utilisant l'ACP, nous cherchons à obtenir un nombre réduit de variables, mais ce n'est pas en éliminant certaines!\n",
    "\n",
    "En effet, le principe c'est d'obtenir 1000 nouvelles variables.\n",
    "De ces 1000 nouvelles variables, nous n'allons garder qu'un nombre réduit, par exemple **10** et qui expliquent **le plus** de variance possible.\n",
    "\n",
    "***Exemple :***\n",
    "- Entrée : 1000 variables (X1, X2, X3, ..., X1000)\n",
    "- Sortie : 1000 variables (Y1, Y2, Y3, ..., Y1000)\n",
    "- Pourcentage de variance expliquée par chaquque variable : 80% (Y1), 15% (Y2), 3% (Y3), ..., 0.0000000000001% (Y1000)\n",
    "\n",
    "Nous allons donc garder les 3 variables qui expliquent le plus de variance : Y1, Y2, Y3. [80+15+3 = 98%]\n"
   ]
  },
  {
   "cell_type": "markdown",
   "id": "c8e311c7",
   "metadata": {},
   "source": [
    "### 1.1. Rappels mathématiques\n",
    "#### 1.1.1. Scalaire et vecteur\n",
    "- Un scalaire est un nombre unique. \n",
    "\n",
    "On peut dire que toute valeur n'ayant pas une direction est un scalaire. Par exemple, la température un scalaire.\n",
    "\n",
    "- Un vecteur est une liste de nombres.\n",
    "\n",
    "On peut dire que toute valeur ayant une direction est un vecteur. Par exemple, la vitesse est un vecteur.\n"
   ]
  },
  {
   "cell_type": "code",
   "execution_count": 3,
   "id": "78924ab1",
   "metadata": {},
   "outputs": [
    {
     "name": "stdout",
     "output_type": "stream",
     "text": [
      "1\n",
      "[1, 2, 3]\n"
     ]
    }
   ],
   "source": [
    "# Déclarer un scalaire\n",
    "x = 1\n",
    "print(x)\n",
    "# Déclarer un vecteur\n",
    "x = [1, 2, 3]\n",
    "print(x)"
   ]
  },
  {
   "cell_type": "markdown",
   "id": "892e7596",
   "metadata": {},
   "source": [
    "\n",
    "#### 1.1.2. Matrice\n",
    "\n",
    "Une matrice est une liste de vecteurs.\n",
    "\n",
    "La multiplication de matrices ce fait en multipliant les lignes de la première matrice par les colonnes de la deuxième matrice.\n",
    "\n",
    "$$\n",
    "\\begin{bmatrix}\n",
    "1 & 2 & 3 \\\\\n",
    "4 & 5 & 6 \\\\\n",
    "7 & 8 & 9\n",
    "\\end{bmatrix}\n",
    "\\begin{bmatrix}\n",
    "1 & 2 \\\\\n",
    "4 & 5 \\\\\n",
    "7 & 8\n",
    "\\end{bmatrix}\n",
    "=\n",
    "\\begin{bmatrix}\n",
    "(1*1 + 2*4 + 3*7) & (1*2 + 2*5 + 3*8) \\\\\n",
    "(4*1 + 5*4 + 6*7) & (4*2 + 5*5 + 6*8) \\\\\n",
    "(7*1 + 8*4 + 9*7) & (7*2 + 8*5 + 9*8)\n",
    "\\end{bmatrix}\n",
    "$$\n",
    "$$\n",
    "=\n",
    "\\begin{bmatrix}\n",
    "30 & 36 \\\\\n",
    "66 & 81 \\\\\n",
    "102 & 126\n",
    "\\end{bmatrix}\n",
    "$$"
   ]
  },
  {
   "cell_type": "code",
   "execution_count": 7,
   "id": "ac4102b7",
   "metadata": {},
   "outputs": [
    {
     "name": "stdout",
     "output_type": "stream",
     "text": [
      "[[1 2 3]\n",
      " [4 5 6]]\n",
      "   0  1  2\n",
      "0  1  2  3\n",
      "1  4  5  6\n"
     ]
    }
   ],
   "source": [
    "# Déclarer une matrice\n",
    "x = [[1, 2, 3], [4, 5, 6]]\n",
    "\n",
    "# En utilisant numpy\n",
    "import numpy as np\n",
    "x = np.array([[1, 2, 3], [4, 5, 6]])\n",
    "print(x)\n",
    "\n",
    "# En utilisant pandas\n",
    "import pandas as pd\n",
    "x = pd.DataFrame([[1, 2, 3], [4, 5, 6]])\n",
    "print(x)"
   ]
  },
  {
   "cell_type": "markdown",
   "id": "891d8537",
   "metadata": {},
   "source": [
    "#### 1.1.3. Transposée d'une matrice\n",
    "\n",
    "La transposée d'une matrice est une matrice qui a les lignes et les colonnes inversées.\n",
    "\n",
    "$$\\begin{bmatrix}\n",
    "1 & 2 & 3 \\\\\n",
    "4 & 5 & 6 \\\\\n",
    "7 & 8 & 9 \\\\\n",
    "10 & 11 & 12\n",
    "\\end{bmatrix}^T\n",
    "=\n",
    "\\begin{bmatrix}\n",
    "1 & 4 & 7 & 10 \\\\\n",
    "2 & 5 & 8 & 11 \\\\\n",
    "3 & 6 & 9 & 12\n",
    "\\end{bmatrix}\n",
    "$$"
   ]
  },
  {
   "cell_type": "code",
   "execution_count": 8,
   "id": "4e066f8d",
   "metadata": {},
   "outputs": [
    {
     "name": "stdout",
     "output_type": "stream",
     "text": [
      "[[1 4]\n",
      " [2 5]\n",
      " [3 6]]\n",
      "   0  1\n",
      "0  1  4\n",
      "1  2  5\n",
      "2  3  6\n"
     ]
    }
   ],
   "source": [
    "# Transposer une matrice\n",
    "x = np.array([[1, 2, 3], [4, 5, 6]])\n",
    "print(x.T)\n",
    "\n",
    "# Transposer une matrice avec pandas\n",
    "x = pd.DataFrame([[1, 2, 3], [4, 5, 6]])\n",
    "print(x.T)"
   ]
  },
  {
   "cell_type": "markdown",
   "id": "f51468c3",
   "metadata": {},
   "source": [
    "#### 1.1.4. Inverse d'une matrice\n",
    "\n",
    "La matrice inverse d'une matrice A est une matrice B telle que :\n",
    "\n",
    "$$\n",
    "AB = BA = I\n",
    "$$\n",
    "\n",
    "Avec I la matrice identité.\n",
    "\n",
    "$$\n",
    "\\begin{bmatrix}\n",
    "1 & 2 & 3 & 4 \\\\\n",
    "5 & 6 & 7 & 8 \\\\\n",
    "9 & 10 & 11 & 12 \\\\\n",
    "13 & 14 & 15 & 16\n",
    "\\end{bmatrix}\n",
    "\\begin{bmatrix}\n",
    "-2 & 1 & 2 & -1 \\\\\n",
    "1.5 & -0.5 & -1 & 0.5 \\\\\n",
    "2 & -1 & -2 & 1 \\\\\n",
    "-1.5 & 0.5 & 1 & -0.5\n",
    "\\end{bmatrix}\n",
    "=\n",
    "\\begin{bmatrix}\n",
    "1 & 0 & 0 & 0 \\\\\n",
    "0 & 1 & 0 & 0 \\\\\n",
    "0 & 0 & 1 & 0 \\\\\n",
    "0 & 0 & 0 & 1\n",
    "\\end{bmatrix}\n",
    "$$\n",
    "\n"
   ]
  },
  {
   "cell_type": "code",
   "execution_count": 11,
   "id": "a671b213",
   "metadata": {},
   "outputs": [
    {
     "name": "stdout",
     "output_type": "stream",
     "text": [
      "[[ 3.15251974e+15 -6.30503948e+15  3.15251974e+15]\n",
      " [-6.30503948e+15  1.26100790e+16 -6.30503948e+15]\n",
      " [ 3.15251974e+15 -6.30503948e+15  3.15251974e+15]]\n",
      "   0  1  2\n",
      "0  1  4  7\n",
      "1  2  5  8\n",
      "2  3  6  9\n",
      "[[ 30  36  42]\n",
      " [ 66  81  96]\n",
      " [102 126 150]]\n",
      "     0    1    2\n",
      "0   30   36   42\n",
      "1   66   81   96\n",
      "2  102  126  150\n"
     ]
    }
   ],
   "source": [
    "# Inverson d'une matrice\n",
    "x = np.array([[1, 2, 3], [4, 5, 6], [7, 8, 9]])\n",
    "print(np.linalg.inv(x))\n",
    "\n",
    "# Inversion d'une matrice avec pandas\n",
    "x = pd.DataFrame([[1, 2, 3], [4, 5, 6], [7, 8, 9]])\n",
    "print(x.T)\n",
    "\n",
    "# Produit scalaire\n",
    "x = np.array([[1, 2, 3], [4, 5, 6], [7, 8, 9]])\n",
    "y = np.array([[1, 2, 3], [4, 5, 6], [7, 8, 9]])\n",
    "print(np.dot(x, y))\n",
    "\n",
    "# Produit scalaire avec pandas\n",
    "x = pd.DataFrame([[1, 2, 3], [4, 5, 6], [7, 8, 9]])\n",
    "y = pd.DataFrame([[1, 2, 3], [4, 5, 6], [7, 8, 9]])\n",
    "print(x.dot(y))\n",
    "\n"
   ]
  },
  {
   "cell_type": "markdown",
   "id": "814c2f9d",
   "metadata": {},
   "source": [
    "#### 1.1.5. Valeur propre et vecteur propre\n",
    "\n",
    "La valeur propre d'une matrice est une valeur qui permet de déterminer la variance d'une variable.\n",
    "\n",
    "Pour toute matice A, s'il existe un vecteur v tel que :\n",
    "$$\n",
    "Av = \\lambda v\n",
    "$$\n",
    "\n",
    "Alors $\\lambda$ est **une valeur propre (Eigenvalue)** de A.\n",
    "\n",
    "Et v est **un vecteur propre (Eigenvector)** de A.\n",
    "\n",
    "#### 1.1.6. Exemple\n",
    "\n",
    "Soit la matrice A :\n",
    "$$\n",
    "A = \\begin{bmatrix}\n",
    "3 & 6 \\\\\n",
    "5 & 4\n",
    "\\end{bmatrix}\n",
    "$$\n",
    "\n",
    "On cherche à trouver les valeurs propres et les vecteurs propres de A.\n",
    "\n",
    "$$Av = \\lambda v$$\n",
    "\n",
    "$$v(A - \\lambda I) = 0$$\n",
    "\n",
    "$$\\begin{bmatrix}\n",
    "3 & 6 \\\\\n",
    "5 & 4\n",
    "\\end{bmatrix}\n",
    "\\begin{bmatrix}\n",
    "\\lambda & 0 \\\\\n",
    "0 & \\lambda\n",
    "\\end{bmatrix}=0 $$\n",
    "\n",
    "$$\n",
    "\\begin{vmatrix}\n",
    "3 - \\lambda & 6 \\\\\n",
    "5 & 4 - \\lambda\n",
    "\\end{vmatrix}= 0$$\n",
    "\n",
    "On résout l'équation :\n",
    "\n",
    "$$\n",
    "(3 - \\lambda)(4 - \\lambda) - 30 = 0\n",
    "$$\n",
    "$$\n",
    "\\lambda_1 = -2\n",
    "$$\n",
    "\n",
    "$$\n",
    "\\lambda_2 = 9\n",
    "$$\n",
    "\n",
    "\n",
    "Ici on a trouvé 2 valeurs propres : -2 et 9.\n",
    "\n",
    "Donc on aura 2 vecteurs propres.\n",
    "\n",
    "$$\n",
    "\\lambda_1 = -2 , v_1\n",
    "\\\\\n",
    "\\lambda_2 = 9 , v_2\n",
    "$$\n"
   ]
  },
  {
   "cell_type": "markdown",
   "id": "e6b036c2",
   "metadata": {},
   "source": [
    "### 1.2. Calcul de l'ACP"
   ]
  },
  {
   "cell_type": "markdown",
   "id": "6a53912d",
   "metadata": {},
   "source": [
    "Dans cette partie, nous allons définir les étapes de l'ACP avec un exemple. Chaque étape sera associée à son équivalent en python.\n"
   ]
  },
  {
   "cell_type": "markdown",
   "id": "dcbd8696",
   "metadata": {},
   "source": [
    "#### Etape 1 : Exemple\n",
    "\n",
    "Soit le dataset suivant :\n",
    "\n",
    "|  | X1 | X2 | X3 | X4 | X5 |\n",
    "| --- | --- | --- | --- | --- | --- |\n",
    "| Y1 | 1 | 2 | 3 | 4 | 5 |\n",
    "| Y2 | 2 | 3 | 4 | 5 | 6 |\n",
    "| Y3 | 3 | 4 | 5 | 6 | 7 |\n",
    "| Y4 | 4 | 5 | 6 | 7 | 8 |\n",
    "| Y5 | 5 | 6 | 7 | 8 | 9 |\n",
    "| Y6 | 6 | 7 | 8 | 9 | 10 |\n",
    "| Y7 | 7 | 8 | 9 | 10 | 11 |\n",
    "| Y8 | 8 | 9 | 10 | 11 | 12 |\n",
    "| Y9 | 9 | 10 | 11 | 12 | 13 |\n",
    "| Y10 | 10 | 11 | 12 | 13 | 14 |\n",
    "\n"
   ]
  },
  {
   "cell_type": "code",
   "execution_count": 15,
   "id": "8654e20e",
   "metadata": {},
   "outputs": [
    {
     "name": "stdout",
     "output_type": "stream",
     "text": [
      "   X1  X2  X3  X4  X5\n",
      "0   1   2   3   4   5\n",
      "1   2   3   4   5   6\n",
      "2   3   4   5   6   7\n",
      "3   4   5   6   7   8\n",
      "4   5   6   7   8   9\n",
      "5   6   7   8   9  10\n",
      "6   7   8   9  10  11\n",
      "7   8   9  10  11  12\n",
      "8   9  10  11  12  13\n",
      "9  10  11  12  13  14\n"
     ]
    }
   ],
   "source": [
    "import numpy as np\n",
    "import pandas as pd\n",
    "import matplotlib.pyplot as plt\n",
    "\n",
    "# On repreend l'exemple précédent\n",
    "\n",
    "# Le dataset\n",
    "x = np.array([[1, 2, 3, 4, 5], [2,3,4,5,6], [3,4,5,6,7], [4,5,6,7,8], [5,6,7,8,9], [6,7,8,9,10], [7,8,9,10,11], [8,9,10,11,12], [9,10,11,12,13], [10,11,12,13,14]])\n",
    "\n",
    "# Pandas\n",
    "x=pd.DataFrame(x, columns=['X1', 'X2', 'X3', 'X4', 'X5'])\n",
    "print(x)\n",
    "\n"
   ]
  },
  {
   "cell_type": "markdown",
   "id": "a521ae5e",
   "metadata": {},
   "source": [
    "#### Etape 2 : Centrer les données\n",
    "\n",
    "Centrer les données signifie soustraire la moyenne de chaque variable à chaque observation.\n",
    "\n",
    "On calcule la moyenne de chaque variable :\n",
    "\n",
    "$$\n",
    "\\bar{X_1} = \\frac{1 + 2 + 3 + 4 + 5 + 6 + 7 + 8 + 9 + 10}{10} = 5.5\n",
    "$$\n",
    "\n",
    "\n",
    "|  | X1 | X2 | X3 | X4 | X5 |\n",
    "| --- | --- | --- | --- | --- | --- |\n",
    "| Moyenne | 5.5 | 6.5 | 7.5 | 8.5 | 9.5 |\n"
   ]
  },
  {
   "cell_type": "code",
   "execution_count": 20,
   "id": "4ee13379",
   "metadata": {},
   "outputs": [
    {
     "name": "stdout",
     "output_type": "stream",
     "text": [
      "X1    5.5\n",
      "X2    6.5\n",
      "X3    7.5\n",
      "X4    8.5\n",
      "X5    9.5\n",
      "dtype: float64\n"
     ]
    }
   ],
   "source": [
    "# Calcul de la moyenne\n",
    "x_mean = np.mean(x, axis=0)\n",
    "print(x_mean)\n"
   ]
  },
  {
   "cell_type": "markdown",
   "id": "334a2d29",
   "metadata": {},
   "source": [
    "Puis on soustrait la moyenne de chaque variable à chaque observation :\n",
    "\n",
    "$$\n",
    "X_1 = X_1 - \\bar{X_1}\n",
    "\\\\\n",
    "X_2 = X_2 - \\bar{X_2}\n",
    "\\\\\n",
    "...\n",
    "$$\n",
    "\n",
    "\n",
    "|  | X1 | X2 | X3 | X4 | X5 |\n",
    "| --- | --- | --- | --- | --- | --- |\n",
    "| Y1 | -4.5 | -4.5 | -4.5 | -4.5 | -4.5 |\n",
    "| Y2 | -3.5 | -3.5 | -3.5 | -3.5 | -3.5 |\n",
    "| Y3 | -2.5 | -2.5 | -2.5 | -2.5 | -2.5 |\n",
    "| Y4 | -1.5 | -1.5 | -1.5 | -1.5 | -1.5 |\n",
    "| Y5 | -0.5 | -0.5 | -0.5 | -0.5 | -0.5 |\n",
    "| Y6 | 0.5 | 0.5 | 0.5 | 0.5 | 0.5 |\n",
    "| Y7 | 1.5 | 1.5 | 1.5 | 1.5 | 1.5 |\n",
    "| Y8 | 2.5 | 2.5 | 2.5 | 2.5 | 2.5 |\n",
    "| Y9 | 3.5 | 3.5 | 3.5 | 3.5 | 3.5 |\n",
    "\n"
   ]
  },
  {
   "cell_type": "code",
   "execution_count": 21,
   "id": "6488f88d",
   "metadata": {},
   "outputs": [
    {
     "name": "stdout",
     "output_type": "stream",
     "text": [
      "    X1   X2   X3   X4   X5\n",
      "0 -4.5 -4.5 -4.5 -4.5 -4.5\n",
      "1 -3.5 -3.5 -3.5 -3.5 -3.5\n",
      "2 -2.5 -2.5 -2.5 -2.5 -2.5\n",
      "3 -1.5 -1.5 -1.5 -1.5 -1.5\n",
      "4 -0.5 -0.5 -0.5 -0.5 -0.5\n",
      "5  0.5  0.5  0.5  0.5  0.5\n",
      "6  1.5  1.5  1.5  1.5  1.5\n",
      "7  2.5  2.5  2.5  2.5  2.5\n",
      "8  3.5  3.5  3.5  3.5  3.5\n",
      "9  4.5  4.5  4.5  4.5  4.5\n"
     ]
    }
   ],
   "source": [
    "# Différerence entre les valeurs et la moyenne\n",
    "\n",
    "x_centered = x - x_mean\n",
    "print(x_centered)\n"
   ]
  },
  {
   "cell_type": "markdown",
   "id": "9b986950",
   "metadata": {},
   "source": [
    "> **Note :** On peut aussi centrer les données en utilisant la fonction `scale` de `sklearn.preprocessing`.\n",
    "\n",
    "> **Pourquoi on cherche à centrer les données ?** Pour que les variables soient sur la même échelle. En effet, si on ne centre pas les données, les variables qui ont une grande variance vont avoir plus d'importance que les autres variables. Par exemple, si on a une variable qui varie entre 0 et 100 et une autre qui varie entre 0 et 1, la première variable aura plus d'importance que la deuxième. En centrant les données, on met toutes les variables sur la même échelle.\n",
    "\n"
   ]
  },
  {
   "cell_type": "markdown",
   "id": "509f2820",
   "metadata": {},
   "source": [
    "#### Etape 3 : Matrice de la covariance"
   ]
  },
  {
   "cell_type": "markdown",
   "id": "33042b38",
   "metadata": {},
   "source": [
    "---"
   ]
  },
  {
   "cell_type": "markdown",
   "id": "cd1b3bbf",
   "metadata": {},
   "source": [
    "##### Rappels \n",
    "\n",
    "1. **Covariance** : La covariance est une mesure de la dépendance linéaire entre deux variables aléatoires.\n",
    "\n",
    "Supposons que X et Y soient deux variables aléatoires. La covariance de X et Y est définie par :\n",
    "\n",
    "$$\n",
    "Cov(X, Y) = \\frac{1}{n} \\sum_{i=1}^{n} (X_i - \\bar{X})(Y_i - \\bar{Y})\n",
    "$$\n",
    "\n",
    "- Si la covariance est **positive**, alors les deux variables sont directement proportionnelles. \n",
    "- Si la covariance est **négative**, alors les deux variables sont inversément proportionnelles. \n",
    "- Si la covariance est **nulle**, alors les deux variables sont indépendantes.\n",
    "\n",
    "> Note : \n",
    "> Si on applique la formule sur un echantillon, on divise par n-1 au lieu de n.\n",
    "\n",
    "Exemple :\n",
    "\n",
    "Soit le tableau suivant qui calcule le nombre d'heures de travail et le nombre de kilomètres parcourus par 10 personnes :\n",
    "\n",
    "|  | Heures de travail(X) | Kilomètres parcourus(Y) |\n",
    "| --- | --- | --- |\n",
    "| Personne 1 | 20 | 150.3 |\n",
    "| Personne 2 | 40 | 230.0 |\n",
    "| Personne 3 | 30 | 300 |\n",
    "| Personne 4 | 50 | 15.3 |\n",
    "\n",
    "On a :\n",
    "$$\n",
    "n = 4\n",
    "\\\\\n",
    "\\bar{X} = \\frac{20 + 40 + 30 + 50}{4} = 35\n",
    "\\\\\n",
    "\\bar{Y} = \\frac{150.3 + 230 + 300 + 15.3}{4} = 173.89999999999998\n",
    "$$\n",
    "\n",
    "Voici la table des différences entre les observations et les moyennes :\n",
    "\n",
    "\n",
    "|  | (X-Xbar) | (Y-Ybar) |\n",
    "| --- | --- | --- |\n",
    "| Personne 1 | -15 | -23.6 |\n",
    "| Personne 2 | 5 | 56.1 |\n",
    "| Personne 3 | -5 | 126.1 |\n",
    "| Personne 4 | 15 | -158.6 |\n",
    "\n",
    "\n",
    "On calcule la covariance :\n",
    "\n",
    "$$Cov(X, Y) = \\frac{1}{4} \\sum_{i=1}^{4} (X_i - \\bar{X})(Y_i - \\bar{Y})\n",
    "\\\\\n",
    "Cov(X, Y) = \\frac{1}{4} \\sum_{i=1}^{4} (X_i - 35)(Y_i - 173.89999999999998)\n",
    "\\\\\n",
    "Cov(X, Y) = 593.75\n",
    "$$\n",
    "\n",
    "\n",
    "\n"
   ]
  },
  {
   "cell_type": "code",
   "execution_count": 25,
   "id": "6e411035",
   "metadata": {},
   "outputs": [
    {
     "name": "stdout",
     "output_type": "stream",
     "text": [
      "35.0\n",
      "173.89999999999998\n",
      "[-15.   5.  -5.  15.]\n",
      "[ -23.6   56.1  126.1 -158.6]\n",
      "-593.75\n"
     ]
    }
   ],
   "source": [
    "# Testons avec puthon\n",
    "\n",
    "X_heures = [20, 40, 30 , 50]\n",
    "X_km = [150.3, 230.0, 300, 15.3]\n",
    "\n",
    "# Calcul de la moyenne\n",
    "X_heures_mean = np.mean(X_heures)\n",
    "X_km_mean = np.mean(X_km)\n",
    "\n",
    "print(X_heures_mean)\n",
    "print(X_km_mean)\n",
    "\n",
    "# Différerence entre les valeurs et la moyenne\n",
    "\n",
    "X_heures_centered = X_heures - X_heures_mean\n",
    "X_km_centered = X_km - X_km_mean\n",
    "\n",
    "print(X_heures_centered)\n",
    "print(X_km_centered)\n",
    "\n",
    "# Calcul de la covariance\n",
    "covariance = np.dot(X_heures_centered, X_km_centered) / (len(X_heures_centered))\n",
    "print(covariance)\n",
    "\n"
   ]
  },
  {
   "cell_type": "code",
   "execution_count": 28,
   "id": "7f529f3b",
   "metadata": {
    "scrolled": true
   },
   "outputs": [
    {
     "data": {
      "image/png": "[encoded data removed]",
      "text/plain": [
       "<Figure size 640x480 with 1 Axes>"
      ]
     },
     "metadata": {},
     "output_type": "display_data"
    }
   ],
   "source": [
    "# Représentation graphique avec la moyenne et la covariance\n",
    "plt.scatter(X_heures, X_km)\n",
    "plt.scatter(X_heures_mean, X_km_mean, color='red')\n",
    "plt.plot([X_heures_mean, X_heures_mean + covariance], [X_km_mean, X_km_mean + covariance], color='green')\n",
    "plt.show()\n"
   ]
  },
  {
   "cell_type": "markdown",
   "id": "a657d8e4",
   "metadata": {},
   "source": [
    "<span style=\"color:red\">**Voici le problème dans cet exemple :**</span>\n",
    "- Les heures de travail et les kilomètres parcourus **ne sont pas sur la même échelle**.\n",
    "\n",
    "D'où l'intérêt de centrer les données."
   ]
  },
  {
   "cell_type": "markdown",
   "id": "4280ee3c",
   "metadata": {},
   "source": [
    "2. **Correlation** : La correlation est une mesure de la dépendance linéaire entre deux variables aléatoires. Elle est définie par :\n",
    "\n",
    "$$\n",
    "Corr(X, Y) = \\frac{Cov(X, Y)}{\\sigma_X \\sigma_Y}\n",
    "$$\n",
    "\n",
    "- Si la correlation est **positive**, alors les deux variables sont directement proportionnelles.\n",
    "- Si la correlation est **négative**, alors les deux variables sont inversément proportionnelles.\n",
    "- Si la correlation est **nulle**, alors les deux variables sont indépendantes.\n",
    "\n",
    "La différence entre la covariance et la correlation est que la covariance est exprimée en unités de X et Y, alors que la correlation est exprimée en unités de X et Y.\n"
   ]
  },
  {
   "cell_type": "markdown",
   "id": "5c819de7",
   "metadata": {},
   "source": [
    "---"
   ]
  },
  {
   "cell_type": "markdown",
   "id": "2c321ed3",
   "metadata": {},
   "source": [
    "##### Matrice de la covariance\n",
    "\n",
    "A travers la matrice de la covariance, on cherche à comprendre la relation entre les variables.\n",
    "\n",
    "$$\\begin{bmatrix}\n",
    "Cov(X_1, X_1) & Cov(X_1, X_2) & Cov(X_1, X_3) & Cov(X_1, X_4) & Cov(X_1, X_5) \\\\\n",
    "Cov(X_2, X_1) & Cov(X_2, X_2) & Cov(X_2, X_3) & Cov(X_2, X_4) & Cov(X_2, X_5) \\\\\n",
    "Cov(X_3, X_1) & Cov(X_3, X_2) & Cov(X_3, X_3) & Cov(X_3, X_4) & Cov(X_3, X_5) \\\\\n",
    "Cov(X_4, X_1) & Cov(X_4, X_2) & Cov(X_4, X_3) & Cov(X_4, X_4) & Cov(X_4, X_5) \\\\\n",
    "Cov(X_5, X_1) & Cov(X_5, X_2) & Cov(X_5, X_3) & Cov(X_5, X_4) & Cov(X_5, X_5) \\\\\n",
    "\\end{bmatrix}$$\n"
   ]
  },
  {
   "cell_type": "code",
   "execution_count": 31,
   "id": "a05dbb09",
   "metadata": {},
   "outputs": [
    {
     "name": "stdout",
     "output_type": "stream",
     "text": [
      "          X1        X2        X3        X4        X5\n",
      "X1  9.166667  9.166667  9.166667  9.166667  9.166667\n",
      "X2  9.166667  9.166667  9.166667  9.166667  9.166667\n",
      "X3  9.166667  9.166667  9.166667  9.166667  9.166667\n",
      "X4  9.166667  9.166667  9.166667  9.166667  9.166667\n",
      "X5  9.166667  9.166667  9.166667  9.166667  9.166667\n",
      "[[9.16666667 9.16666667 9.16666667 9.16666667 9.16666667]\n",
      " [9.16666667 9.16666667 9.16666667 9.16666667 9.16666667]\n",
      " [9.16666667 9.16666667 9.16666667 9.16666667 9.16666667]\n",
      " [9.16666667 9.16666667 9.16666667 9.16666667 9.16666667]\n",
      " [9.16666667 9.16666667 9.16666667 9.16666667 9.16666667]]\n"
     ]
    }
   ],
   "source": [
    "# Calcul de la covariance avec pandas\n",
    "covariance = x.cov()\n",
    "print(covariance)\n",
    "\n",
    "# Calcul de la covariance avec numpy\n",
    "covariance = np.cov(x, rowvar=False)\n",
    "print(covariance)"
   ]
  },
  {
   "cell_type": "markdown",
   "id": "813c9516",
   "metadata": {},
   "source": []
  },
  {
   "cell_type": "code",
   "execution_count": null,
   "id": "53382796",
   "metadata": {},
   "outputs": [],
   "source": []
  }
 ],
 "metadata": {
  "kernelspec": {
   "display_name": "Python 3 (ipykernel)",
   "language": "python",
   "name": "python3"
  },
  "language_info": {
   "codemirror_mode": {
    "name": "ipython",
    "version": 3
   },
   "file_extension": ".py",
   "mimetype": "text/x-python",
   "name": "python",
   "nbconvert_exporter": "python",
   "pygments_lexer": "ipython3",
   "version": "3.10.9"
  }
 },
 "nbformat": 4,
 "nbformat_minor": 5
}
