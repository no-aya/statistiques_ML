{
 "cells": [
  {
   "attachments": {},
   "cell_type": "markdown",
   "id": "7e31bc53",
   "metadata": {},
   "source": [
    "# Implémentations de l'ACP sans sklearn\n",
    "\n",
    "Le but de cette activité est d'implémenter l'ACP sans utiliser de librairies externes. Nous allons utiliser le jeu de données `iris` de `sklearn` pour tester notre implémentation.\n",
    "\n",
    "## 1. Importation des librairies\n",
    "\n",
    "Nous allons utiliser les librairies suivantes :\n",
    "- `numpy` pour les calculs matriciels\n",
    "- `pandas` pour la manipulation des données\n",
    "- `matplotlib` pour la visualisation des données\n",
    "- `sklearn` pour le jeu de données `iris`"
   ]
  },
  {
   "cell_type": "code",
   "execution_count": 5,
   "id": "3512e535",
   "metadata": {},
   "outputs": [
    {
     "name": "stdout",
     "output_type": "stream",
     "text": [
      "   sepal length (cm)  sepal width (cm)  petal length (cm)  petal width (cm)\n",
      "0                5.1               3.5                1.4               0.2\n",
      "1                4.9               3.0                1.4               0.2\n",
      "2                4.7               3.2                1.3               0.2\n",
      "3                4.6               3.1                1.5               0.2\n",
      "4                5.0               3.6                1.4               0.2\n"
     ]
    }
   ],
   "source": [
    "import numpy as np\n",
    "import matplotlib.pyplot as plt\n",
    "import pandas as pd\n",
    "from sklearn import datasets\n",
    "\n",
    "# Importation des données\n",
    "iris = datasets.load_iris()\n",
    "\n",
    "# Affichage des données\n",
    "iris=pd.DataFrame(iris.data, columns=iris.feature_names)\n",
    "print(iris.head()) # Affichage des 5 premières lignes\n"
   ]
  },
  {
   "attachments": {},
   "cell_type": "markdown",
   "id": "bfc4319f",
   "metadata": {},
   "source": [
    "Comme on peut le voir, il est difficile d'interpréter les données en 4 dimensions. Nous allons donc utiliser l'ACP pour réduire la dimensionnalité des données."
   ]
  },
  {
   "attachments": {},
   "cell_type": "markdown",
   "id": "2c831892",
   "metadata": {},
   "source": [
    "A titre de référence nous allons valider les résultats grâce à la méthode `descibe` de `pandas` et la méthode `PCA` de `sklearn`."
   ]
  },
  {
   "cell_type": "code",
   "execution_count": 14,
   "id": "f66753d8",
   "metadata": {},
   "outputs": [
    {
     "name": "stdout",
     "output_type": "stream",
     "text": [
      "Description des données\n",
      "       sepal length (cm)  sepal width (cm)  petal length (cm)  \\\n",
      "count         150.000000        150.000000         150.000000   \n",
      "mean            5.843333          3.057333           3.758000   \n",
      "std             0.828066          0.435866           1.765298   \n",
      "min             4.300000          2.000000           1.000000   \n",
      "25%             5.100000          2.800000           1.600000   \n",
      "50%             5.800000          3.000000           4.350000   \n",
      "75%             6.400000          3.300000           5.100000   \n",
      "max             7.900000          4.400000           6.900000   \n",
      "\n",
      "       petal width (cm)  \n",
      "count        150.000000  \n",
      "mean           1.199333  \n",
      "std            0.762238  \n",
      "min            0.100000  \n",
      "25%            0.300000  \n",
      "50%            1.300000  \n",
      "75%            1.800000  \n",
      "max            2.500000  \n",
      "PCA\n",
      "Affichage des données\n"
     ]
    },
    {
     "data": {
      "image/png": "[encoded data removed]",
      "text/plain": [
       "<Figure size 640x480 with 1 Axes>"
      ]
     },
     "metadata": {},
     "output_type": "display_data"
    }
   ],
   "source": [
    "print(\"Description des données\")\n",
    "print(iris.describe())\n",
    "\n",
    "print(\"PCA\")\n",
    "from sklearn.decomposition import PCA\n",
    "pca = PCA(n_components=2)\n",
    "iris_pca = pca.fit_transform(iris)\n",
    "\n",
    "print(\"Affichage des données\")\n",
    "plt.scatter(iris_pca[:,0], iris_pca[:,1])\n",
    "plt.show()"
   ]
  },
  {
   "attachments": {},
   "cell_type": "markdown",
   "id": "1c48a19c",
   "metadata": {},
   "source": [
    "## 2. Centrer et réduire les données\n",
    "\n",
    "Pour que l'ACP fonctionne correctement, il faut que les données soient centrées et réduites. Pour cela, nous allons utiliser la formule suivante :\n",
    "\n",
    "$$\n",
    "X_{cr} = \\frac{X - \\bar{X}}{\\sigma}\n",
    "$$\n",
    "\n",
    "Où $\\bar{X}$ est la moyenne de $X$ et $\\sigma$ est l'écart-type de $X$.\n",
    "\n",
    "Formule de la moyenne :\n",
    "\n",
    "$$\n",
    "\\bar{X} = \\frac{1}{n} \\sum_{i=1}^{n} X_i\n",
    "$$\n",
    "\n",
    "Formule de l'écart-type :\n",
    "\n",
    "$$\n",
    "\\sigma = \\sqrt{\\frac{1}{n} \\sum_{i=1}^{n} (X_i - \\bar{X})^2}\n",
    "$$\n",
    "\n"
   ]
  },
  {
   "cell_type": "code",
   "execution_count": 32,
   "id": "7dfa5ec0",
   "metadata": {},
   "outputs": [
    {
     "name": "stdout",
     "output_type": "stream",
     "text": [
      "Moyenne des données\n",
      "sepal length (cm) :5.843333333333335\n",
      "sepal width (cm) :3.057333333333334\n",
      "petal length (cm) :3.7580000000000027\n",
      "petal width (cm) :1.199333333333334\n"
     ]
    }
   ],
   "source": [
    "# Calcule de la moyenne\n",
    "print(\"Moyenne des données\")\n",
    "moyennes =[]\n",
    "for i in range(0,4):\n",
    "    print(iris.columns[i], \":\", end=\"\")\n",
    "    sum=0\n",
    "    for j in range(0,iris.shape[0]):\n",
    "        sum+=iris.iloc[j,i]\n",
    "    print(sum/iris.shape[0])\n",
    "    moyennes.append(sum/iris.shape[0])\n"
   ]
  },
  {
   "cell_type": "code",
   "execution_count": 33,
   "id": "6770d780",
   "metadata": {},
   "outputs": [
    {
     "name": "stdout",
     "output_type": "stream",
     "text": [
      "Ecart-type des données\n",
      "sepal length (cm) :0.8253012917851408\n",
      "sepal width (cm) :0.4344109677354945\n",
      "petal length (cm) :1.7594040657753038\n",
      "petal width (cm) :0.7596926279021593\n"
     ]
    }
   ],
   "source": [
    "# Calcule de l'écart-type\n",
    "print(\"Ecart-type des données\")\n",
    "ecart_type = []\n",
    "for i in range(0,4):\n",
    "    print(iris.columns[i], \":\", end=\"\")\n",
    "    sum=0\n",
    "    for j in range(0,iris.shape[0]):\n",
    "        sum+=(iris.iloc[j,i]-iris.iloc[:,i].mean())**2\n",
    "    print(np.sqrt(sum/iris.shape[0]))\n",
    "    ecart_type.append(np.sqrt(sum/iris.shape[0]))"
   ]
  },
  {
   "cell_type": "code",
   "execution_count": 34,
   "id": "20f80a2b",
   "metadata": {},
   "outputs": [
    {
     "name": "stdout",
     "output_type": "stream",
     "text": [
      "Covariance des donnée\n",
      "sepal length (cm) et sepal length (cm) :0.6811222222222222\n",
      "sepal length (cm) et sepal width (cm) :-0.04215111111111109\n",
      "sepal length (cm) et petal length (cm) :1.2658199999999995\n",
      "sepal length (cm) et petal width (cm) :0.512828888888889\n",
      "sepal width (cm) et sepal length (cm) :-0.04215111111111109\n",
      "sepal width (cm) et sepal width (cm) :0.1887128888888887\n",
      "sepal width (cm) et petal length (cm) :-0.3274586666666668\n",
      "sepal width (cm) et petal width (cm) :-0.12082844444444452\n",
      "petal length (cm) et sepal length (cm) :1.2658199999999995\n",
      "petal length (cm) et sepal width (cm) :-0.3274586666666668\n",
      "petal length (cm) et petal length (cm) :3.0955026666666674\n",
      "petal length (cm) et petal width (cm) :1.2869719999999993\n",
      "petal width (cm) et sepal length (cm) :0.512828888888889\n",
      "petal width (cm) et sepal width (cm) :-0.12082844444444452\n",
      "petal width (cm) et petal length (cm) :1.2869719999999993\n",
      "petal width (cm) et petal width (cm) :0.5771328888888888\n"
     ]
    }
   ],
   "source": [
    "# Calcule de la covariance\n",
    "print(\"Covariance des donnée\")\n",
    "covariance = []\n",
    "for i in range(0,4):\n",
    "    for j in range(0,4):\n",
    "        print(iris.columns[i], \"et\", iris.columns[j], \":\", end=\"\")\n",
    "        sum=0\n",
    "        for k in range(0,iris.shape[0]):\n",
    "            sum+=(iris.iloc[k,i]-moyennes[i])*(iris.iloc[k,j]-moyennes[j])\n",
    "        print(sum/iris.shape[0])\n",
    "        covariance.append(sum/iris.shape[0])\n"
   ]
  },
  {
   "attachments": {},
   "cell_type": "markdown",
   "id": "e33a92dc",
   "metadata": {},
   "source": [
    "## 3. Calculer la matrice de covariance\n",
    "\n",
    "La matrice de covariance est calculée de la manière suivante :\n",
    "\n",
    "$$\n",
    "C = \\frac{1}{n}X_{cr}^TX_{cr}\n",
    "$$\n",
    "\n",
    "Où $n$ est le nombre d'observations.\n"
   ]
  },
  {
   "cell_type": "code",
   "execution_count": 51,
   "id": "29aeb8ec",
   "metadata": {},
   "outputs": [
    {
     "name": "stdout",
     "output_type": "stream",
     "text": [
      "Matrice de covariance\n",
      "          0         1         2         3\n",
      "0  0.681122 -0.042151  1.265820  0.512829\n",
      "1 -0.042151  0.188713 -0.327459 -0.120828\n",
      "2  1.265820 -0.327459  3.095503  1.286972\n",
      "3  0.512829 -0.120828  1.286972  0.577133\n"
     ]
    }
   ],
   "source": [
    "# Calcule de la matrice de covariance\n",
    "print(\"Matrice de covariance\")\n",
    "matrice_covariance = []\n",
    "for i in range(0,4):\n",
    "    matrice_covariance.append(covariance[i*4:i*4+4])\n",
    "    #covariance[i*4:i*4+4] correspond à la ligne i de la matrice de covariance (4 valeurs) \n",
    "matrice_covariance = pd.DataFrame(matrice_covariance)\n",
    "print(matrice_covariance)"
   ]
  },
  {
   "attachments": {},
   "cell_type": "markdown",
   "id": "b3e18443",
   "metadata": {},
   "source": [
    "Voici à quoi ressemble le tableau de covariance :\n",
    "\n",
    "|   | SepalLengthCm | SepalWidthCm | PetalLengthCm | PetalWidthCm |\n",
    "|---|---------------|--------------|---------------|--------------|\n",
    "| SepalLengthCm | 0.685693 | -0.042434 | 1.274315 | 0.516271 |\n",
    "| SepalWidthCm | -0.042434 | 0.189979 | -0.329656 | -0.121639 |\n",
    "| PetalLengthCm | 1.274315 | -0.329656 | 3.116278 | 1.295609 |\n",
    "| PetalWidthCm | 0.516271 | -0.121639 | 1.295609 | 0.581006 |\n",
    "\n",
    "Donc `covariance[i*4:i*4+4]` indique d'extraire les 4 valeurs de la ligne `i` de la matrice de covariance."
   ]
  },
  {
   "cell_type": "code",
   "execution_count": 36,
   "id": "32475b18",
   "metadata": {},
   "outputs": [
    {
     "name": "stdout",
     "output_type": "stream",
     "text": [
      "Vérification de la matrice de covariance\n",
      "                   sepal length (cm)  sepal width (cm)  petal length (cm)  \\\n",
      "sepal length (cm)           0.685694         -0.042434           1.274315   \n",
      "sepal width (cm)           -0.042434          0.189979          -0.329656   \n",
      "petal length (cm)           1.274315         -0.329656           3.116278   \n",
      "petal width (cm)            0.516271         -0.121639           1.295609   \n",
      "\n",
      "                   petal width (cm)  \n",
      "sepal length (cm)          0.516271  \n",
      "sepal width (cm)          -0.121639  \n",
      "petal length (cm)          1.295609  \n",
      "petal width (cm)           0.581006  \n"
     ]
    }
   ],
   "source": [
    "# On vérifie que la matrice de covariance est correcte\n",
    "print(\"Vérification de la matrice de covariance\")\n",
    "print(iris.cov())"
   ]
  },
  {
   "attachments": {},
   "cell_type": "markdown",
   "id": "ac66ffbf",
   "metadata": {},
   "source": [
    "On peut aussi vérifier que notre résultat est correct si la matrice est symétrique."
   ]
  },
  {
   "attachments": {},
   "cell_type": "markdown",
   "id": "28bcc9e6",
   "metadata": {},
   "source": [
    "## 4. Calculer les valeurs propres et vecteurs propres\n",
    "\n",
    "Nous allons utiliser la méthode `eig` de `numpy` pour calculer les valeurs propres et vecteurs propres de la matrice de covariance : detrminer les valeurs propres et vecteurs propres d'une matrice est un problème d'algèbre linéaire que nous n'allons pas détailler ici."
   ]
  },
  {
   "cell_type": "code",
   "execution_count": 54,
   "id": "5c858170",
   "metadata": {},
   "outputs": [
    {
     "name": "stdout",
     "output_type": "stream",
     "text": [
      "Valeurs propres et vecteurs propres\n",
      "Valeurs propres\n",
      "[0.68112222 0.18871289 3.09550267 0.57713289]\n",
      "Vecteurs propres\n",
      "[[1. 0. 0. 0.]\n",
      " [0. 1. 0. 0.]\n",
      " [0. 0. 1. 0.]\n",
      " [0. 0. 0. 1.]]\n"
     ]
    }
   ],
   "source": [
    "# Calcule des valeurs propres et vecteurs propres\n",
    "print(\"Valeurs propres et vecteurs propres\")\n",
    "valeurs_propres, vecteurs_propres = np.linalg.eig(matrice_covariance)\n",
    "print(\"Valeurs propres\")\n",
    "print(valeurs_propres)\n",
    "print(\"Vecteurs propres\")\n",
    "print(vecteurs_propres)"
   ]
  },
  {
   "attachments": {},
   "cell_type": "markdown",
   "id": "a72aec47",
   "metadata": {},
   "source": [
    "On doit maintennat trier les valeurs propres et vecteurs propres par ordre décroissant des valeurs propres."
   ]
  },
  {
   "cell_type": "code",
   "execution_count": 76,
   "id": "b664153a",
   "metadata": {},
   "outputs": [
    {
     "name": "stdout",
     "output_type": "stream",
     "text": [
      "{0.6811222222222222: array([1., 0., 0., 0.]), 0.1887128888888887: array([0., 1., 0., 0.]), 3.0955026666666674: array([0., 0., 1., 0.]), 0.5771328888888888: array([0., 0., 0., 1.])}\n",
      "[(3.0955026666666674, array([0., 0., 1., 0.])), (0.6811222222222222, array([1., 0., 0., 0.])), (0.5771328888888888, array([0., 0., 0., 1.])), (0.1887128888888887, array([0., 1., 0., 0.]))]\n"
     ]
    }
   ],
   "source": [
    "# On crée un dictionnaire avec les valeurs propres et les vecteurs propres4\n",
    "sum=0 # Somme des valeurs propres\n",
    "dict = {}\n",
    "for i in range(0,4):\n",
    "    sum+=valeurs_propres[i]\n",
    "    dict[valeurs_propres[i]] = vecteurs_propres[i]\n",
    "print(dict)\n",
    "\n",
    "# On trie le dictionnaire par ordre décroissant des valeurs propres\n",
    "dict_trie = sorted(dict.items(), key=lambda t: t[0], reverse=True)\n",
    "\n",
    "print(dict_trie)\n"
   ]
  },
  {
   "cell_type": "code",
   "execution_count": 66,
   "id": "a06b9a81",
   "metadata": {},
   "outputs": [
    {
     "name": "stdout",
     "output_type": "stream",
     "text": [
      "Variance expliquée\n",
      "Composante 1 : 68.14579319976531 %\n",
      "Composante 2 : 14.994532099467358 %\n",
      "Composante 3 : 12.705263968438516 %\n",
      "Composante 4 : 4.154410732328825 %\n"
     ]
    }
   ],
   "source": [
    "# On calcule la variance expliquée\n",
    "print(\"Variance expliquée\")\n",
    "variance_expliquee = []\n",
    "for i in range(0,4):\n",
    "    variance_expliquee.append(dict_trie[i][0]/sum*100)\n",
    "    print(\"Composante\", i+1, \":\", variance_expliquee[i], \"%\")"
   ]
  },
  {
   "attachments": {},
   "cell_type": "markdown",
   "id": "6398230a",
   "metadata": {},
   "source": [
    "On va garder ainsi les 2 vecteurs propres les plus importants."
   ]
  },
  {
   "cell_type": "code",
   "execution_count": 67,
   "id": "0ff92f78",
   "metadata": {},
   "outputs": [
    {
     "name": "stdout",
     "output_type": "stream",
     "text": [
      "Composante 1\n",
      "[0. 0. 1. 0.]\n",
      "Composante 2\n",
      "[1. 0. 0. 0.]\n"
     ]
    }
   ],
   "source": [
    "composante_1 = dict_trie[0][1]\n",
    "composante_2 = dict_trie[1][1]\n",
    "\n",
    "print(\"Composante 1\")\n",
    "print(composante_1)\n",
    "print(\"Composante 2\")\n",
    "print(composante_2)"
   ]
  },
  {
   "attachments": {},
   "cell_type": "markdown",
   "id": "32d4cea7",
   "metadata": {},
   "source": [
    "## 5. Projection des données sur les composantes principales \n",
    "\n",
    "Pour projeter les données sur les composantes principales, nous allons utiliser la formule suivante :\n",
    "\n",
    "$$\n",
    "X_{pca} = X_{cr}V\n",
    "$$\n",
    "\n",
    "Où $V$ est la matrice des vecteurs propres.\n"
   ]
  },
  {
   "cell_type": "code",
   "execution_count": 73,
   "id": "0f9c9b13",
   "metadata": {},
   "outputs": [
    {
     "name": "stdout",
     "output_type": "stream",
     "text": [
      "Projection des données sur les vecteurs propres\n",
      "[[1.4 5.1]\n",
      " [1.4 4.9]\n",
      " [1.3 4.7]\n",
      " [1.5 4.6]\n",
      " [1.4 5. ]\n",
      " [1.7 5.4]\n",
      " [1.4 4.6]\n",
      " [1.5 5. ]\n",
      " [1.4 4.4]\n",
      " [1.5 4.9]\n",
      " [1.5 5.4]\n",
      " [1.6 4.8]\n",
      " [1.4 4.8]\n",
      " [1.1 4.3]\n",
      " [1.2 5.8]\n",
      " [1.5 5.7]\n",
      " [1.3 5.4]\n",
      " [1.4 5.1]\n",
      " [1.7 5.7]\n",
      " [1.5 5.1]\n",
      " [1.7 5.4]\n",
      " [1.5 5.1]\n",
      " [1.  4.6]\n",
      " [1.7 5.1]\n",
      " [1.9 4.8]\n",
      " [1.6 5. ]\n",
      " [1.6 5. ]\n",
      " [1.5 5.2]\n",
      " [1.4 5.2]\n",
      " [1.6 4.7]\n",
      " [1.6 4.8]\n",
      " [1.5 5.4]\n",
      " [1.5 5.2]\n",
      " [1.4 5.5]\n",
      " [1.5 4.9]\n",
      " [1.2 5. ]\n",
      " [1.3 5.5]\n",
      " [1.4 4.9]\n",
      " [1.3 4.4]\n",
      " [1.5 5.1]\n",
      " [1.3 5. ]\n",
      " [1.3 4.5]\n",
      " [1.3 4.4]\n",
      " [1.6 5. ]\n",
      " [1.9 5.1]\n",
      " [1.4 4.8]\n",
      " [1.6 5.1]\n",
      " [1.4 4.6]\n",
      " [1.5 5.3]\n",
      " [1.4 5. ]\n",
      " [4.7 7. ]\n",
      " [4.5 6.4]\n",
      " [4.9 6.9]\n",
      " [4.  5.5]\n",
      " [4.6 6.5]\n",
      " [4.5 5.7]\n",
      " [4.7 6.3]\n",
      " [3.3 4.9]\n",
      " [4.6 6.6]\n",
      " [3.9 5.2]\n",
      " [3.5 5. ]\n",
      " [4.2 5.9]\n",
      " [4.  6. ]\n",
      " [4.7 6.1]\n",
      " [3.6 5.6]\n",
      " [4.4 6.7]\n",
      " [4.5 5.6]\n",
      " [4.1 5.8]\n",
      " [4.5 6.2]\n",
      " [3.9 5.6]\n",
      " [4.8 5.9]\n",
      " [4.  6.1]\n",
      " [4.9 6.3]\n",
      " [4.7 6.1]\n",
      " [4.3 6.4]\n",
      " [4.4 6.6]\n",
      " [4.8 6.8]\n",
      " [5.  6.7]\n",
      " [4.5 6. ]\n",
      " [3.5 5.7]\n",
      " [3.8 5.5]\n",
      " [3.7 5.5]\n",
      " [3.9 5.8]\n",
      " [5.1 6. ]\n",
      " [4.5 5.4]\n",
      " [4.5 6. ]\n",
      " [4.7 6.7]\n",
      " [4.4 6.3]\n",
      " [4.1 5.6]\n",
      " [4.  5.5]\n",
      " [4.4 5.5]\n",
      " [4.6 6.1]\n",
      " [4.  5.8]\n",
      " [3.3 5. ]\n",
      " [4.2 5.6]\n",
      " [4.2 5.7]\n",
      " [4.2 5.7]\n",
      " [4.3 6.2]\n",
      " [3.  5.1]\n",
      " [4.1 5.7]\n",
      " [6.  6.3]\n",
      " [5.1 5.8]\n",
      " [5.9 7.1]\n",
      " [5.6 6.3]\n",
      " [5.8 6.5]\n",
      " [6.6 7.6]\n",
      " [4.5 4.9]\n",
      " [6.3 7.3]\n",
      " [5.8 6.7]\n",
      " [6.1 7.2]\n",
      " [5.1 6.5]\n",
      " [5.3 6.4]\n",
      " [5.5 6.8]\n",
      " [5.  5.7]\n",
      " [5.1 5.8]\n",
      " [5.3 6.4]\n",
      " [5.5 6.5]\n",
      " [6.7 7.7]\n",
      " [6.9 7.7]\n",
      " [5.  6. ]\n",
      " [5.7 6.9]\n",
      " [4.9 5.6]\n",
      " [6.7 7.7]\n",
      " [4.9 6.3]\n",
      " [5.7 6.7]\n",
      " [6.  7.2]\n",
      " [4.8 6.2]\n",
      " [4.9 6.1]\n",
      " [5.6 6.4]\n",
      " [5.8 7.2]\n",
      " [6.1 7.4]\n",
      " [6.4 7.9]\n",
      " [5.6 6.4]\n",
      " [5.1 6.3]\n",
      " [5.6 6.1]\n",
      " [6.1 7.7]\n",
      " [5.6 6.3]\n",
      " [5.5 6.4]\n",
      " [4.8 6. ]\n",
      " [5.4 6.9]\n",
      " [5.6 6.7]\n",
      " [5.1 6.9]\n",
      " [5.1 5.8]\n",
      " [5.9 6.8]\n",
      " [5.7 6.7]\n",
      " [5.2 6.7]\n",
      " [5.  6.3]\n",
      " [5.2 6.5]\n",
      " [5.4 6.2]\n",
      " [5.1 5.9]]\n"
     ]
    }
   ],
   "source": [
    "# Projection des données sur les vecteurs propres\n",
    "print(\"Projection des données sur les vecteurs propres\")\n",
    "composantes = np.array([composante_1, composante_2])\n",
    "iris_pca = np.dot(iris, composantes.T)\n",
    "print(iris_pca)"
   ]
  },
  {
   "cell_type": "code",
   "execution_count": 74,
   "id": "c22d0e1d",
   "metadata": {},
   "outputs": [
    {
     "name": "stdout",
     "output_type": "stream",
     "text": [
      "Affichage des données\n"
     ]
    },
    {
     "data": {
      "image/png": "[encoded data removed]",
      "text/plain": [
       "<Figure size 640x480 with 1 Axes>"
      ]
     },
     "metadata": {},
     "output_type": "display_data"
    }
   ],
   "source": [
    "# Affichage des données\n",
    "print(\"Affichage des données\")\n",
    "plt.scatter(iris_pca[:,0], iris_pca[:,1])\n",
    "plt.show()"
   ]
  },
  {
   "attachments": {},
   "cell_type": "markdown",
   "id": "d1ab1354",
   "metadata": {},
   "source": [
    "> **Note** :\n",
    "> Le graphique ci-dessous est un peu différent de celui de `sklearn` car nous n'avons pas calculé les composantes principales dans le même ordre."
   ]
  }
 ],
 "metadata": {
  "kernelspec": {
   "display_name": "Python 3 (ipykernel)",
   "language": "python",
   "name": "python3"
  },
  "language_info": {
   "codemirror_mode": {
    "name": "ipython",
    "version": 3
   },
   "file_extension": ".py",
   "mimetype": "text/x-python",
   "name": "python",
   "nbconvert_exporter": "python",
   "pygments_lexer": "ipython3",
   "version": "3.10.9"
  }
 },
 "nbformat": 4,
 "nbformat_minor": 5
}
