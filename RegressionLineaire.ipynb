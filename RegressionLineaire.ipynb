{
 "cells": [
  {
   "attachments": {},
   "cell_type": "markdown",
   "metadata": {},
   "source": [
    "# Régression Linéaire Simple (●'◡'●)"
   ]
  },
  {
   "attachments": {},
   "cell_type": "markdown",
   "metadata": {},
   "source": [
    "La regression linéaire a 2 objectifs :\n",
    "- Déterminer s'il y a une relation entre 2 variables (Déterminer la force de cette relation)\n",
    "- Prédire de nouvelles observations"
   ]
  },
  {
   "attachments": {},
   "cell_type": "markdown",
   "metadata": {},
   "source": [
    "Il existe aussi 2 types de variables :\n",
    "- Variable dépendante (Y) : Variable à expliquer\n",
    "- Variable indépendante (X) : Variable explicative\n"
   ]
  },
  {
   "attachments": {},
   "cell_type": "markdown",
   "metadata": {},
   "source": [
    "Si on se refère à la formule de la droite, on a :\n",
    "- Y = a + bX\n",
    "- Y : Variable dépendante\n",
    "- X : Variable indépendante\n",
    "\n",
    "C'est très similaire à la formule utilisée en statistiques:\n",
    "\n",
    "$$\n",
    "y = \\beta_0 + \\beta_1 x\n",
    "$$"
   ]
  },
  {
   "attachments": {},
   "cell_type": "markdown",
   "metadata": {},
   "source": [
    "Exemple :\n",
    "\n",
    "Soit la formule suivante : $$y=4+2x$$"
   ]
  },
  {
   "attachments": {},
   "cell_type": "markdown",
   "metadata": {},
   "source": [
    "- 4 ($\\beta_0$) : Ordonnée à l'origine\n",
    "- 2 ($\\beta_1$) : Pente de la droite, c'est à dire l'augmentation de y pour une augmentation de x"
   ]
  },
  {
   "attachments": {},
   "cell_type": "markdown",
   "metadata": {},
   "source": [
    "Les valeurs dans la réalité ne sont pas toujours (si jamais) aussi parfaites. \n",
    "\n",
    "La différence entre la valeur réelle et la valeur prédite est appelée l'erreur de prédiction.\n",
    "\n",
    "On a donc une formule plus générale :\n",
    "\n",
    "$$\n",
    "y = \\beta_0 + \\beta_1 x + \\epsilon\n",
    "$$\n"
   ]
  },
  {
   "attachments": {},
   "cell_type": "markdown",
   "metadata": {},
   "source": [
    "## Etude de cas\n",
    "**Pourquoi une famille consomme-t-elle un produit donné ?**\n",
    "\n",
    "On a donc 2 variables :\n",
    "\n",
    "- Variable dépendante : La consommation du produit\n",
    "- Variable indépendante : Le revenu de la famille\n",
    "\n",
    "On a donc une relation entre ces 2 variables. On peut donc utiliser la regression linéaire pour déterminer la force de cette relation."
   ]
  },
  {
   "attachments": {},
   "cell_type": "markdown",
   "metadata": {},
   "source": [
    "| Revenu (X) | Consommation (Y) |\n",
    "|------------|------------------|\n",
    "| 119     | 154     |\n",
    "| 85      | 123     |\n",
    "| 97      | 125     |\n",
    "| 95      | 130     |\n",
    "| 120     | 151     |\n",
    "| 92      | 131     |\n",
    "| 105     | 141     |\n",
    "| 110     | 141     |\n",
    "| 98      | 133     |\n"
   ]
  },
  {
   "attachments": {},
   "cell_type": "markdown",
   "metadata": {},
   "source": [
    "Donc notre formule pour ce problème est :\n",
    "\n",
    "$$\n",
    "Consommation = \\beta_0 + \\beta_1 Revenu + \\epsilon\n",
    "$$\n",
    "\n",
    "On cherche donc à étudier l'impact du revenu sur la consommation d'une famille."
   ]
  },
  {
   "attachments": {},
   "cell_type": "markdown",
   "metadata": {},
   "source": [
    "En effectuant les calculs (que nous allons voir en détail après), on obtient la formule suitante :\n",
    "$$\n",
    "Consommation = 49.13 + 0.85 Revenu + \\epsilon\n",
    "$$"
   ]
  },
  {
   "attachments": {},
   "cell_type": "markdown",
   "metadata": {},
   "source": [
    "Iterprétation :\n",
    "- Au niveau 0 de revenu, la consommation est de 49.13\n",
    "- Pour chaque augmentation de 1 du revenu, la consommation augmente de 0.85"
   ]
  },
  {
   "attachments": {},
   "cell_type": "markdown",
   "metadata": {},
   "source": [
    "## (Model fitting) : Estimation des paramètres\n",
    "\n",
    "Pour mieux comprendre la signifcation de la formule :\n",
    "* $y$ désigne la valeur **réelle**\n",
    "* $\\beta_0 + \\beta_1 x$ désigne la valeur **prédite** par le modèle\n",
    "* $\\epsilon$ désigne ce que nous ne pouvons pas expliquer!"
   ]
  },
  {
   "attachments": {},
   "cell_type": "markdown",
   "metadata": {},
   "source": [
    "Quand on parle de Fit, on parle de la qualité de la prédiction. \n",
    "\n",
    "On le calcule en comparant la varience de ce qu'on a prédit avec la variance de ce qu'on ne peut pas expliquer.\n",
    "\n",
    "$$\n",
    "y = \\beta_0 + \\beta_1 x + \\epsilon \\\\\n",
    "\n",
    "var(y) = var(\\beta_0 + \\beta_1 x + \\epsilon) \\\\\n",
    "= var(\\beta_0) + var(\\beta_1 x) + var(\\epsilon)+2 cov(\\beta_1 x, \\epsilon) \\\\\n",
    "$$\n",
    "\n",
    "Or on sait que $var(\\beta_0) = 0$ est constante\n",
    "\n",
    "On trouve $cov(\\beta_1 x, \\epsilon)$ et cela signifie qu'on cherche la relation entre ce qu'on ne peut pas expliquer $\\epsilon$ et ce qu'on a prédit **$\\beta_1 x$**.\n",
    "\n",
    "Pour l'instant, on va considérer que les erreurs sont indépendantes et normalement distribuées. On a donc : $ov(\\beta_1 x, \\epsilon) = 0$"
   ]
  },
  {
   "attachments": {},
   "cell_type": "markdown",
   "metadata": {},
   "source": [
    "### 1ere métrique : R carré ($R^2$)"
   ]
  },
  {
   "attachments": {},
   "cell_type": "markdown",
   "metadata": {},
   "source": [
    "$R^2$ est une mesure de la qualité de la prédiction.\n",
    "\n",
    "Rappel : on a $var(y) = var(\\beta_1 x) + var(\\epsilon)$ \n",
    "\n",
    "Donc :\n",
    "\n",
    "$$\n",
    "R^2 = \\frac{var(\\beta_1 x)}{var(y)} \\\\\n",
    "$$\n",
    "\n",
    "Puisque c'est une variance, on a $R^2 \\in [0,1]$\n",
    "- Si $R^2 = 0$, cela signifie que la variance de ce qu'on a prédit est nulle. Donc notre modèle ne prédit rien.\n",
    "- Si $R^2 = 1$, cela signifie que la variance de ce qu'on a prédit est égale à la variance de ce qu'on a prédit. Donc notre modèle prédit parfaitement."
   ]
  },
  {
   "attachments": {},
   "cell_type": "markdown",
   "metadata": {},
   "source": [
    "**Note :** $R^2$ est une mesure de la qualité de la prédiction. Cela ne signifie pas que notre modèle est bon. Il faut aussi vérifier que les paramètres sont significatifs."
   ]
  },
  {
   "attachments": {},
   "cell_type": "markdown",
   "metadata": {},
   "source": [
    "### 2eme métrique : p-value \n",
    "\n",
    "La p-value est une mesure de la signifiance des paramètres.\n",
    "\n",
    "Exemple :\n",
    "\n",
    "$$\n",
    "y = \\beta_0 + \\beta_1 x + \\epsilon\n",
    "$$\n",
    "\n",
    "\n",
    "On cherche à savoir si $\\beta_1$ est significatif ou non.\n",
    "\n",
    "\n",
    "On a donc 2 hypothèses :\n",
    "- H0 : $\\beta_1 = 0$\n",
    "- H1 : $\\beta_1 \\neq 0$\n",
    "\n",
    "\n",
    "On calcule la p-value en calculant la probabilité de voir une valeur aussi extrême que celle qu'on a calculé si l'hypothèse H0 est vraie.\n",
    "\n",
    "Si la p-value est inférieure à 0.05, on rejette l'hypothèse H0. Donc $\\beta_1$ est significatif.\n",
    "\n",
    "Pour calculer la p-value, on utilise la distribution de Student.\n"
   ]
  },
  {
   "attachments": {},
   "cell_type": "markdown",
   "metadata": {},
   "source": [
    "### 3eme métrique : Ecart Type Résiduel RSE (Regression Standard Error)"
   ]
  },
  {
   "attachments": {},
   "cell_type": "markdown",
   "metadata": {},
   "source": [
    "Cette métrique est une mesure de la qualité de la prédiction.\n",
    "\n",
    "$$\n",
    "RSE = \\sqrt{\\frac{1}{n-2} RSS} \\\\\n",
    "$$\n",
    "\n",
    "Avec $RSS = \\sum_{i=1}^{n} (y_i - \\hat{y_i})^2$\n",
    "\n",
    "RSS est la somme des carrés des erreurs de prédiction. Elle signifie que plus cette valeur est grande, plus les erreurs de prédiction sont grandes.\n",
    "\n",
    "La valeur prédit par notre modèle $\\hat{y_i} = \\beta_0 + \\beta_1 x_i$"
   ]
  },
  {
   "cell_type": "markdown",
   "metadata": {},
   "source": []
  },
  {
   "cell_type": "markdown",
   "metadata": {},
   "source": []
  }
 ],
 "metadata": {
  "kernelspec": {
   "display_name": "base",
   "language": "python",
   "name": "python3"
  },
  "language_info": {
   "name": "python",
   "version": "3.10.9"
  },
  "orig_nbformat": 4
 },
 "nbformat": 4,
 "nbformat_minor": 2
}
